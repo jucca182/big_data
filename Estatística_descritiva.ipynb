{
  "nbformat": 4,
  "nbformat_minor": 0,
  "metadata": {
    "colab": {
      "name": "Estatística descritiva.ipynb",
      "provenance": [],
      "collapsed_sections": [],
      "authorship_tag": "ABX9TyPAH7RU5ch0CRshTxGtrTj+",
      "include_colab_link": true
    },
    "kernelspec": {
      "name": "python3",
      "display_name": "Python 3"
    }
  },
  "cells": [
    {
      "cell_type": "markdown",
      "metadata": {
        "id": "view-in-github",
        "colab_type": "text"
      },
      "source": [
        "<a href=\"https://colab.research.google.com/github/jucca182/big_data/blob/main/Estat%C3%ADstica_descritiva.ipynb\" target=\"_parent\"><img src=\"https://colab.research.google.com/assets/colab-badge.svg\" alt=\"Open In Colab\"/></a>"
      ]
    },
    {
      "cell_type": "code",
      "metadata": {
        "id": "-KIY1rmI69ax"
      },
      "source": [
        "#média\n",
        "#mediana\n",
        "#moda\n",
        "#amplitude\n",
        "#desvio padrão\n",
        "#correlação (indique qual a variável dependente e independente)\n",
        "#regressão (prever valores futuros)"
      ],
      "execution_count": null,
      "outputs": []
    },
    {
      "cell_type": "code",
      "metadata": {
        "id": "a0Lex5FTcyMt"
      },
      "source": [
        "import pandas as pd\n",
        "\n",
        "dados_enem2019 = pd.read_csv(\"https://www.dropbox.com/s/jfem9lb6rfdz315/MICRODADOS_ENEM_2019_SAMPLE_43278.csv?dl=1\")\n",
        "\n",
        "\n",
        "provas =[\"NU_NOTA_MT\",\"NU_NOTA_CN\",\"NU_NOTA_LC\",\"NU_NOTA_CH\",\"NU_NOTA_REDACAO\"]\n",
        "dados_enem2019[\"NU_NOTA_TOTAL\"] = dados_enem2019[provas].sum(axis=1) #cria uma nova coluna somando as notas de todas as provas\n",
        "#tirar os candidatos que tiraram nota zero\n",
        "dados_enem2019_sem_zero = dados_enem2019.query(\"NU_NOTA_TOTAL != 0\")"
      ],
      "execution_count": null,
      "outputs": []
    },
    {
      "cell_type": "code",
      "metadata": {
        "id": "vmSHvrqicx73"
      },
      "source": [
        "#media das nota do enem 2019 tirando os outliers(nota=0)\n",
        "dados_enem2019_sem_zero[\"NU_NOTA_TOTAL\"].mean()/5\n",
        "#media da nota de ciencia da natureza tirando os outliers(nota=0)\n",
        "dados_enem2019_sem_zero_cn = dados_enem2019.query(\"NU_NOTA_CN != 0\")\n",
        "dados_enem2019_sem_zero_cn[\"NU_NOTA_CN\"].mean()"
      ],
      "execution_count": null,
      "outputs": []
    },
    {
      "cell_type": "code",
      "metadata": {
        "id": "IqnITkoGdayB"
      },
      "source": [
        "#mediana da idade dos candidatos\n",
        "dados_enem2019[\"NU_IDADE\"].median()\n",
        "#mediana da nota de redação\n",
        "dados_enem2019[\"NU_NOTA_REDACAO\"].median()"
      ],
      "execution_count": null,
      "outputs": []
    },
    {
      "cell_type": "code",
      "metadata": {
        "id": "TnqIJLC9jjfW"
      },
      "source": [
        "#moda da idade dos candidatos\n",
        "dados_enem2019[\"NU_IDADE\"].mode()\n",
        "#moda da presença do candidato na prova de ciencia da natureza\n",
        "dados_enem2019[\"TP_PRESENCA_CN\"].mode() #0 = faltou na prova , #1 = presente na prova, #2 = eliminado na prova"
      ],
      "execution_count": null,
      "outputs": []
    },
    {
      "cell_type": "code",
      "metadata": {
        "id": "0E3Hr-cukEp4"
      },
      "source": [
        "#amplitude da soma das notas totais excluindo o zero\n",
        "amplitude1 = dados_enem2019_sem_zero[\"NU_NOTA_TOTAL\"].max() - dados_enem2019_sem_zero[\"NU_NOTA_TOTAL\"].min()\n",
        "#amplitude da idade dos candidatos \n",
        "amplitude2 = dados_enem2019[\"NU_IDADE\"].max() - dados_enem2019[\"NU_IDADE\"].min()\n"
      ],
      "execution_count": null,
      "outputs": []
    },
    {
      "cell_type": "code",
      "metadata": {
        "id": "5c1_JLOak5RO"
      },
      "source": [
        "#desvio padrão da soma de todas as provas\n",
        "dados_enem2019_sem_zero[\"NU_NOTA_TOTAL\"].std()\n",
        "#desvio padrão das idades dos candidatos\n",
        "dados_enem2019_sem_zero[\"NU_IDADE\"].std()"
      ],
      "execution_count": null,
      "outputs": []
    },
    {
      "cell_type": "code",
      "metadata": {
        "id": "XCJbdeiDlrcm"
      },
      "source": [
        "#correlação entre idade e a nota total\n",
        "#independente = idade\n",
        "#dependente = nota total\n",
        "dados_enem2019[\"NU_IDADE\"].corr(dados_enem2019[\"NU_NOTA_TOTAL\"])\n",
        "\n",
        "#correlação entre a prova de matemática e ciencias da natureza\n",
        "#independente = prova de matemática\n",
        "#dependente = ciencias da natureza\n",
        "dados_enem2019_sem_zero_mt = dados_enem2019.query(\"NU_NOTA_MT != 0\")\n",
        "dados_enem2019_sem_zero_mt[\"NU_NOTA_MT\"].corr(dados_enem2019_sem_zero_cn[\"NU_NOTA_CN\"])"
      ],
      "execution_count": null,
      "outputs": []
    },
    {
      "cell_type": "code",
      "metadata": {
        "id": "hMpLrdHbpWOm",
        "outputId": "8418e65f-b6a0-4ddb-c778-3a185c5717a8",
        "colab": {
          "base_uri": "https://localhost:8080/",
          "height": 547
        }
      },
      "source": [
        "import numpy as np\n",
        "import seaborn as sns\n",
        "import matplotlib.pyplot as plt\n",
        "\n",
        "#regressão (prever valores futuros)\n",
        "#Y = MX + B\n",
        "dados_enem2019_sem_zero_mt_cn = dados_enem2019.query(\"NU_NOTA_MT !=0 and NU_NOTA_CN !=0 and NU_NOTA_MT!= 'NaN' and NU_NOTA_CN !='NaN'\")\n",
        "m,b = np.polyfit(x=dados_enem2019_sem_zero_mt_cn[\"NU_NOTA_MT\"],y=dados_enem2019_sem_zero_mt_cn[\"NU_NOTA_CN\"],deg=1)\n",
        "\n",
        "#Grafico que relaciona as notas de matematica e ciencias da natureza. \n",
        "#Será que quem vai bem em matemática está relacionado com ir bem em ciências da natureza?\n",
        "correlacao = dados_enem2019_sem_zero_mt_cn[\"NU_NOTA_MT\"].corr(dados_enem2019_sem_zero_mt_cn[\"NU_NOTA_CN\"]) \n",
        "modelo = m*dados_enem2019_sem_zero_mt_cn[\"NU_NOTA_MT\"] + b\n",
        "modelo = modelo.rename(\"Nota estimada de CN\")\n",
        "#gráfico mostrando a estimativa da relação entre as notas\n",
        "plt.figure(figsize=(20,10))\n",
        "plt.title(\"Reta de correlação entre as notas. Valor da correlação : %.2f\" % correlacao)\n",
        "grafico_reta_mt_cn = sns.lineplot(x=dados_enem2019_sem_zero_mt_cn[\"NU_NOTA_MT\"],y=modelo,color = \"red\") #demora para executar devido ao tamanho do dataframe\n",
        "plt.xlim((0, 1000))\n",
        "plt.ylim((0, 1000))\n",
        "#grafico_dispersao_mt_cn = sns.relplot(x=dados_enem2019_sem_zero_mt_cn[\"NU_NOTA_MT\"],y=dados_enem2019_sem_zero_mt_cn[\"NU_NOTA_CN\"],color=\"blue\")\n"
      ],
      "execution_count": null,
      "outputs": [
        {
          "output_type": "execute_result",
          "data": {
            "text/plain": [
              "(0.0, 1000.0)"
            ]
          },
          "metadata": {
            "tags": []
          },
          "execution_count": 87
        },
        {
          "output_type": "display_data",
          "data": {
            "image/png": "[encoded data removed]",
            "text/plain": [
              "<Figure size 1440x720 with 1 Axes>"
            ]
          },
          "metadata": {
            "tags": [],
            "needs_background": "light"
          }
        }
      ]
    },
    {
      "cell_type": "code",
      "metadata": {
        "id": "QNkrDoh7rgqv"
      },
      "source": [
        ""
      ],
      "execution_count": null,
      "outputs": []
    },
    {
      "cell_type": "code",
      "metadata": {
        "id": "m0a4AH1KBPnl"
      },
      "source": [
        ""
      ],
      "execution_count": null,
      "outputs": []
    }
  ]
}