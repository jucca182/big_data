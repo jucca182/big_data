{
  "nbformat": 4,
  "nbformat_minor": 0,
  "metadata": {
    "colab": {
      "name": "Consulta_basededados_enem.ipynb",
      "provenance": [],
      "authorship_tag": "ABX9TyO8QADN3dN1hetIe5DZ2bsr",
      "include_colab_link": true
    },
    "kernelspec": {
      "name": "python3",
      "display_name": "Python 3"
    }
  },
  "cells": [
    {
      "cell_type": "markdown",
      "metadata": {
        "id": "view-in-github",
        "colab_type": "text"
      },
      "source": [
        "<a href=\"https://colab.research.google.com/github/jucca182/big_data/blob/main/Consulta_basededados_enem.ipynb\" target=\"_parent\"><img src=\"https://colab.research.google.com/assets/colab-badge.svg\" alt=\"Open In Colab\"/></a>"
      ]
    },
    {
      "cell_type": "code",
      "metadata": {
        "id": "84r3UKzoSuu2"
      },
      "source": [
        "import pandas as pd\n",
        "\n",
        "dados_enem2019 = pd.read_csv(\"https://www.dropbox.com/s/jfem9lb6rfdz315/MICRODADOS_ENEM_2019_SAMPLE_43278.csv?dl=1\")\n",
        "\n",
        "#listar algumas colunas de todas as linhas\n",
        "provas =[\"NU_NOTA_MT\",\"NU_NOTA_CN\",\"NU_NOTA_LC\",\"NU_NOTA_CH\"]\n",
        "#mostra a nota das pessoas que fizeram enem 2019\n",
        "dados_enem2019[provas]\n",
        "#mostra a quantidade de pessoas que nasceram em sp\n",
        "dados_enem2019.query(\"SG_UF_NASCIMENTO == 'SP'\")"
      ],
      "execution_count": null,
      "outputs": []
    },
    {
      "cell_type": "code",
      "metadata": {
        "id": "1_0n5_7KYilC"
      },
      "source": [
        "dados_enem2019.columns"
      ],
      "execution_count": null,
      "outputs": []
    },
    {
      "cell_type": "code",
      "metadata": {
        "id": "GUYHyFfQTDeK"
      },
      "source": [
        "#listar algumas colunas de algumas linhas\n",
        "\n",
        "#restringe para pessoas de idade = 18 e mostra o resultado da prova delas\n",
        "dados_enem2019.query(\"NU_IDADE == 18\")[provas]\n",
        "#restringe para pessoas que nasceram em SP e mostra o resultado da prova delas\n",
        "dados_enem2019.query(\"SG_UF_NASCIMENTO == 'SP'\")[provas]"
      ],
      "execution_count": null,
      "outputs": []
    },
    {
      "cell_type": "code",
      "metadata": {
        "id": "_nSJh2jxYn_r"
      },
      "source": [
        "#consultas com operadores lógicos\n",
        "\n",
        "#consulta a idade das pessoas que fizeram enem com mais de 25 anos\n",
        "dados_enem2019.query(\"NU_IDADE> 25\")\n",
        "#consulta a idade das pessoas que fizeram enem com menos de 16 anos\n",
        "dados_enem2019.query(\"NU_IDADE< 16\")"
      ],
      "execution_count": null,
      "outputs": []
    },
    {
      "cell_type": "code",
      "metadata": {
        "id": "5pPcR887Yy0J"
      },
      "source": [
        "#consultas com atributos numéricos e não numéricos\n",
        "\n",
        "#consulta a idade das pessoas que fizeram enem com mais de 25 anos e é do sexo masculino\n",
        "dados_enem2019.query(\"NU_IDADE> 25\").query(\"TP_SEXO == 'M'\")\n",
        "#consulta a idade das pessoas que fizeram enem com mais de 50 anos e é do sexo masculino\n",
        "dados_enem2019.query(\"NU_IDADE> 50\").query(\"TP_SEXO == 'M'\")\n",
        "#consulta a idade das pessoas que fizeram enem com menos de 17 anos e é do sexo feminino\n",
        "dados_enem2019.query(\"NU_IDADE< 17\").query(\"TP_SEXO == 'F'\")\n",
        "#consulta a idade das pessoas que fizeram enem com menos de 15 anos e é do sexo feminino\n",
        "dados_enem2019.query(\"NU_IDADE< 15\").query(\"TP_SEXO == 'F'\")"
      ],
      "execution_count": null,
      "outputs": []
    },
    {
      "cell_type": "code",
      "metadata": {
        "id": "LxcqmFEYZK5J"
      },
      "source": [
        "#consultas com ordenação crescente e decrescente\n",
        "\n",
        "#coloca o dataframe em ordem crescente de idade\n",
        "dados_enem2019.sort_values(by=\"NU_IDADE\")\n",
        "#cria um variavel e coloca em ordem crescente a característica estado civil\n",
        "dados_enem2019.sort_values(by=\"TP_ESTADO_CIVIL\")\n",
        "\n",
        "#coloca o dataframe em ordem descrescente de ano de conclusão do ensino médio, ou seja, \n",
        "#quanto mais alto na lista, acabou antes o ensino médio\n",
        "dados_enem2019.sort_values(by=\"TP_ANO_CONCLUIU\",ascending=False)\n",
        "#coloca o dataframe em ordem decrescente de idade\n",
        "dados_enem2019.sort_values(by=\"NU_IDADE\",ascending=False)"
      ],
      "execution_count": null,
      "outputs": []
    },
    {
      "cell_type": "code",
      "metadata": {
        "id": "i6opM7x-advo"
      },
      "source": [
        "#consultas com ordenação por mais de 1 atributo\n",
        "\n",
        "#restringe o dataframe para pessoas que nasceram em MG, possuem mais de 25 anos e sao do sexo feminino\n",
        "dados_enem2019.query(\"SG_UF_NASCIMENTO == 'MG'\").query(\"NU_IDADE > 25\").query(\"TP_SEXO == 'F'\")\n",
        "\n",
        "#restringe o dataframe para pessoas que nasceram no acre, possuem mais de 18 anos e sao do sexo masculino\n",
        "dados_enem2019.query(\"SG_UF_NASCIMENTO == 'AC'\").query(\"NU_IDADE > 18\").query(\"TP_SEXO == 'M'\")"
      ],
      "execution_count": null,
      "outputs": []
    },
    {
      "cell_type": "code",
      "metadata": {
        "id": "Pnhs-vmego7p"
      },
      "source": [
        "#consultas  para contar ocorrências\n",
        "#Não se aplica\n"
      ],
      "execution_count": null,
      "outputs": []
    }
  ]
}